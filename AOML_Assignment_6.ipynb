{
 "cells": [
  {
   "cell_type": "code",
   "execution_count": 1,
   "metadata": {},
   "outputs": [],
   "source": [
    "import pandas as pd\n",
    "import numpy as np\n",
    "import matplotlib.pyplot as plt\n",
    "from sklearn.svm import SVC\n",
    "from sklearn.model_selection import train_test_split, GridSearchCV\n",
    "from sklearn.preprocessing import StandardScaler"
   ]
  },
  {
   "cell_type": "code",
   "execution_count": null,
   "metadata": {},
   "outputs": [
    {
     "name": "stdout",
     "output_type": "stream",
     "text": [
      "(60000, 785) (10000, 785)\n"
     ]
    }
   ],
   "source": [
    "traindf = pd.read_csv('fashion-mnist_train.csv')\n",
    "testdf = pd.read_csv('fashion-mnist_test.csv')\n",
    "\n",
    "print(traindf.shape, testdf.shape)"
   ]
  },
  {
   "cell_type": "code",
   "execution_count": null,
   "metadata": {},
   "outputs": [],
   "source": [
    "X = traindf.iloc[:, 1:].values\n",
    "y = traindf.iloc[:, 0].values\n",
    "\n",
    "X_train, X_test, y_train, y_test = train_test_split(X, y, test_size=0.2, random_state=0)\n",
    "\n",
    "sc = StandardScaler()\n",
    "X_train = sc.fit_transform(X_train)\n",
    "X_test = sc.transform(X_test)\n",
    "\n",
    "svm = SVC(kernel='linear')\n",
    "\n",
    "param_grid = {'C': [0.01, 0.1, 1, 10, 100]}\n",
    "\n",
    "grid_search = GridSearchCV(svm, param_grid, cv=5, scoring='accuracy', n_jobs=-1)\n",
    "grid_search.fit(X_train, y_train)\n",
    "\n",
    "best_C = grid_search.best_params_['C']\n",
    "best_score = grid_search.best_score_\n",
    "\n",
    "print(f\"Best C value: {best_C}\")\n",
    "print(f\"Best cross-validation accuracy: {best_score:.4f}\")\n",
    "\n",
    "svm_best = SVC(kernel='linear', C=best_C)\n",
    "svm_best.fit(X_train, y_train)\n",
    "\n",
    "test_accuracy = svm_best.score(X_test, y_test)\n",
    "print(f\"Test accuracy: {test_accuracy:.4f}\")"
   ]
  },
  {
   "cell_type": "code",
   "execution_count": null,
   "metadata": {},
   "outputs": [],
   "source": [
    "\n",
    "svm_poly = SVC(kernel='poly')\n",
    "\n",
    "param_grid = {'C': [0.01, 0.1, 1, 10, 100], 'degree': [2, 3, 4]}\n",
    "grid_search = GridSearchCV(svm_poly, param_grid, cv=5, scoring='accuracy', n_jobs=-1)\n",
    "grid_search.fit(X_train, y_train)\n",
    "\n",
    "best_C = grid_search.best_params_['C']\n",
    "best_degree = grid_search.best_params_['degree']\n",
    "\n",
    "best_score = grid_search.best_score_\n",
    "\n",
    "print(f\"Best C value: {best_C}\")\n",
    "print(f\"Best degree: {best_degree}\")\n",
    "print(f\"Best cross-validation accuracy: {best_score:.4f}\")\n",
    "\n",
    "svm_poly_best = SVC(kernel='poly', C=best_C, degree=best_degree)\n",
    "svm_poly_best.fit(X_train, y_train)\n",
    "\n",
    "test_accuracy = svm_poly_best.score(X_test, y_test)\n",
    "print(f\"Test accuracy: {test_accuracy:.4f}\")"
   ]
  },
  {
   "cell_type": "code",
   "execution_count": null,
   "metadata": {},
   "outputs": [],
   "source": [
    "\n",
    "svm_rbf = SVC(kernel='rbf')\n",
    "\n",
    "param_grid = {'C': [0.01, 0.1, 1, 10, 100], 'gamma': [0.01, 0.1, 1, 10, 100]}\n",
    "grid_search = GridSearchCV(svm_rbf, param_grid, cv=5, scoring='accuracy', n_jobs=-1)\n",
    "grid_search.fit(X_train, y_train)\n",
    "\n",
    "best_C = grid_search.best_params_['C']\n",
    "best_gamma = grid_search.best_params_['gamma']\n",
    "\n",
    "best_score = grid_search.best_score_\n",
    "\n",
    "print(f\"Best C value: {best_C}\")\n",
    "print(f\"Best gamma: {best_gamma}\")\n",
    "print(f\"Best cross-validation accuracy: {best_score:.4f}\")\n",
    "\n",
    "svm_rbf_best = SVC(kernel='rbf', C=best_C, gamma=best_gamma)\n",
    "svm_rbf_best.fit(X_train, y_train)\n",
    "\n",
    "test_accuracy = svm_rbf_best.score(X_test, y_test)\n",
    "print(f\"Test accuracy: {test_accuracy:.4f}\")"
   ]
  }
 ],
 "metadata": {
  "kernelspec": {
   "display_name": "Python 3",
   "language": "python",
   "name": "python3"
  },
  "language_info": {
   "codemirror_mode": {
    "name": "ipython",
    "version": 3
   },
   "file_extension": ".py",
   "mimetype": "text/x-python",
   "name": "python",
   "nbconvert_exporter": "python",
   "pygments_lexer": "ipython3",
   "version": "3.11.5"
  }
 },
 "nbformat": 4,
 "nbformat_minor": 2
}
