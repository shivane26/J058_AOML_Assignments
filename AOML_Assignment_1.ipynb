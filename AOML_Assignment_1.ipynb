{
 "cells": [
  {
   "cell_type": "code",
   "execution_count": 11,
   "id": "49148787",
   "metadata": {},
   "outputs": [],
   "source": [
    "import pandas as pd\n",
    "import numpy as np\n",
    "import joblib\n",
    "from sklearn.model_selection import train_test_split\n",
    "from sklearn.preprocessing import StandardScaler, OneHotEncoder\n",
    "from sklearn.compose import ColumnTransformer\n",
    "from sklearn.pipeline import Pipeline\n",
    "from sklearn.neighbors import KNeighborsClassifier\n",
    "from sklearn.tree import DecisionTreeClassifier\n",
    "from sklearn.metrics import f1_score"
   ]
  },
  {
   "cell_type": "code",
   "execution_count": 12,
   "id": "b7d5b36d",
   "metadata": {},
   "outputs": [],
   "source": [
    "# Load dataset\n",
    "df = pd.read_csv(\"diabetes.csv\")"
   ]
  },
  {
   "cell_type": "code",
   "execution_count": 13,
   "id": "b40006cb",
   "metadata": {},
   "outputs": [],
   "source": [
    "# 1️⃣ Add BMI Category based on general medical guidelines\n",
    "def classify_bmi(bmi):\n",
    "    if bmi < 18.5:\n",
    "        return \"Underweight\"\n",
    "    elif 18.5 <= bmi < 24.9:\n",
    "        return \"Normal\"\n",
    "    elif 25 <= bmi < 29.9:\n",
    "        return \"Overweight\"\n",
    "    else:\n",
    "        return \"Obese\"\n",
    "\n",
    "df[\"BMI_category\"] = df[\"BMI\"].apply(classify_bmi)"
   ]
  },
  {
   "cell_type": "code",
   "execution_count": 14,
   "id": "d7686c9d",
   "metadata": {},
   "outputs": [],
   "source": [
    "# 2️⃣ Split data (80% train, 20% validation)\n",
    "train_df, val_df = train_test_split(df, test_size=0.2, random_state=42, stratify=df[\"Outcome\"])\n",
    "\n",
    "# Save validation set for inference\n",
    "val_df.to_csv(\"val_set.csv\", index=False)\n",
    "\n",
    "# Identify numeric and categorical columns\n",
    "numeric_features = [\"Pregnancies\", \"Glucose\", \"BloodPressure\", \"SkinThickness\", \"Insulin\", \"BMI\", \"DiabetesPedigreeFunction\", \"Age\"]\n",
    "categorical_features = [\"BMI_category\"]"
   ]
  },
  {
   "cell_type": "code",
   "execution_count": 15,
   "id": "8f42de0f",
   "metadata": {},
   "outputs": [
    {
     "data": {
      "text/plain": [
       "['preprocessor.pkl']"
      ]
     },
     "execution_count": 15,
     "metadata": {},
     "output_type": "execute_result"
    }
   ],
   "source": [
    "# 3️⃣ Preprocessing: StandardScaler for numeric, OneHotEncoder for categorical\n",
    "preprocessor = ColumnTransformer([\n",
    "    (\"num\", StandardScaler(), numeric_features),\n",
    "    (\"cat\", OneHotEncoder(handle_unknown=\"ignore\"), categorical_features)\n",
    "])\n",
    "\n",
    "# Transform data\n",
    "X_train = train_df.drop(columns=[\"Outcome\"])\n",
    "y_train = train_df[\"Outcome\"]\n",
    "X_val = val_df.drop(columns=[\"Outcome\"])\n",
    "y_val = val_df[\"Outcome\"]\n",
    "\n",
    "X_train = preprocessor.fit_transform(X_train)\n",
    "X_val = preprocessor.transform(X_val)\n",
    "\n",
    "# Save the preprocessor for inference\n",
    "joblib.dump(preprocessor, \"preprocessor.pkl\")"
   ]
  },
  {
   "cell_type": "code",
   "execution_count": 16,
   "id": "b3fba0fa",
   "metadata": {},
   "outputs": [
    {
     "name": "stdout",
     "output_type": "stream",
     "text": [
      "KNN (k=3) - F1 Score: 0.5577\n",
      "KNN (k=5) - F1 Score: 0.5882\n",
      "KNN (k=7) - F1 Score: 0.5800\n",
      "Best KNN Model: k=5 with F1 Score: 0.5882\n"
     ]
    }
   ],
   "source": [
    "# 4️⃣ Train KNN Classifier (Try k = 3, 5, 7)\n",
    "best_knn_model = None\n",
    "best_knn_f1 = 0\n",
    "best_k = 0\n",
    "\n",
    "for k in [3, 5, 7]:\n",
    "    knn = KNeighborsClassifier(n_neighbors=k)\n",
    "    knn.fit(X_train, y_train)\n",
    "    y_pred = knn.predict(X_val)\n",
    "    f1 = f1_score(y_val, y_pred)\n",
    "    \n",
    "    print(f\"KNN (k={k}) - F1 Score: {f1:.4f}\")\n",
    "    \n",
    "    if f1 > best_knn_f1:\n",
    "        best_knn_f1 = f1\n",
    "        best_knn_model = knn\n",
    "        best_k = k\n",
    "\n",
    "print(f\"Best KNN Model: k={best_k} with F1 Score: {best_knn_f1:.4f}\")"
   ]
  },
  {
   "cell_type": "code",
   "execution_count": 17,
   "id": "cf87eb45",
   "metadata": {},
   "outputs": [
    {
     "name": "stdout",
     "output_type": "stream",
     "text": [
      "Decision Tree (max_depth=3) - F1 Score: 0.3733\n",
      "Decision Tree (max_depth=5) - F1 Score: 0.7037\n",
      "Decision Tree (max_depth=7) - F1 Score: 0.5909\n",
      "Best Decision Tree Model: max_depth=5 with F1 Score: 0.7037\n"
     ]
    }
   ],
   "source": [
    "# 5️⃣ Train Decision Tree (Try max_depth = 3, 5, 7)\n",
    "best_dt_model = None\n",
    "best_dt_f1 = 0\n",
    "best_depth = 0\n",
    "\n",
    "for depth in [3, 5, 7]:\n",
    "    dt = DecisionTreeClassifier(max_depth=depth, random_state=42)\n",
    "    dt.fit(X_train, y_train)\n",
    "    y_pred = dt.predict(X_val)\n",
    "    f1 = f1_score(y_val, y_pred)\n",
    "    \n",
    "    print(f\"Decision Tree (max_depth={depth}) - F1 Score: {f1:.4f}\")\n",
    "    \n",
    "    if f1 > best_dt_f1:\n",
    "        best_dt_f1 = f1\n",
    "        best_dt_model = dt\n",
    "        best_depth = depth\n",
    "\n",
    "print(f\"Best Decision Tree Model: max_depth={best_depth} with F1 Score: {best_dt_f1:.4f}\")"
   ]
  },
  {
   "cell_type": "code",
   "execution_count": 18,
   "id": "15c83dc9",
   "metadata": {},
   "outputs": [
    {
     "name": "stdout",
     "output_type": "stream",
     "text": [
      "✅ Best Model Saved: DecisionTree_depth5\n"
     ]
    }
   ],
   "source": [
    "# 6️⃣ Save the best model (whichever is better)\n",
    "if best_knn_f1 >= best_dt_f1:\n",
    "    best_model = best_knn_model\n",
    "    best_model_name = f\"KNN_k{best_k}\"\n",
    "else:\n",
    "    best_model = best_dt_model\n",
    "    best_model_name = f\"DecisionTree_depth{best_depth}\"\n",
    "\n",
    "joblib.dump(best_model, \"best_model.pkl\")\n",
    "print(f\"✅ Best Model Saved: {best_model_name}\")"
   ]
  },
  {
   "cell_type": "code",
   "execution_count": 19,
   "id": "76dd58de",
   "metadata": {},
   "outputs": [],
   "source": [
    "# 7️⃣ Inference Function\n",
    "def inference(sample):\n",
    "    \"\"\"\n",
    "    Takes a dictionary input of a single sample, applies preprocessing, and returns the predicted class.\n",
    "    \"\"\"\n",
    "    # Load preprocessor and model\n",
    "    preprocessor = joblib.load(\"preprocessor.pkl\")\n",
    "    model = joblib.load(\"best_model.pkl\")\n",
    "\n",
    "    # Convert dictionary to DataFrame\n",
    "    sample_df = pd.DataFrame([sample])\n",
    "\n",
    "    # Ensure categorical columns are strings\n",
    "    for col in categorical_features:\n",
    "        if col in sample_df.columns:\n",
    "            sample_df[col] = sample_df[col].astype(str)\n",
    "\n",
    "    # Apply preprocessing\n",
    "    sample_processed = preprocessor.transform(sample_df)\n",
    "\n",
    "    # Make prediction\n",
    "    prediction = model.predict(sample_processed)[0]\n",
    "    return prediction"
   ]
  },
  {
   "cell_type": "code",
   "execution_count": 20,
   "id": "e92d18a3",
   "metadata": {},
   "outputs": [
    {
     "name": "stdout",
     "output_type": "stream",
     "text": [
      "Sample 1: True Label = 0, Predicted Label = 1\n",
      "Sample 2: True Label = 0, Predicted Label = 0\n",
      "Sample 3: True Label = 0, Predicted Label = 0\n",
      "Sample 4: True Label = 1, Predicted Label = 1\n",
      "Sample 5: True Label = 0, Predicted Label = 0\n"
     ]
    }
   ],
   "source": [
    "# 🔹 TEST INFERENCE ON 5 SAMPLES FROM VALIDATION SET\n",
    "for i in range(5):\n",
    "    sample = val_df.drop(columns=[\"Outcome\"]).iloc[i].to_dict()\n",
    "    true_label = val_df.iloc[i][\"Outcome\"]\n",
    "    pred_label = inference(sample)\n",
    "    print(f\"Sample {i+1}: True Label = {true_label}, Predicted Label = {pred_label}\")"
   ]
  }
 ],
 "metadata": {
  "kernelspec": {
   "display_name": "Python 3 (ipykernel)",
   "language": "python",
   "name": "python3"
  },
  "language_info": {
   "codemirror_mode": {
    "name": "ipython",
    "version": 3
   },
   "file_extension": ".py",
   "mimetype": "text/x-python",
   "name": "python",
   "nbconvert_exporter": "python",
   "pygments_lexer": "ipython3",
   "version": "3.11.5"
  }
 },
 "nbformat": 4,
 "nbformat_minor": 5
}
